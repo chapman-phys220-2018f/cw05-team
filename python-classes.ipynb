{
 "cells": [
  {
   "cell_type": "markdown",
   "metadata": {
    "collapsed": false
   },
   "source": [
    "# Python Object Slides Notes\n",
    "\n",
    "Abby Wheaton and Jacob Anabi"
   ]
  },
  {
   "cell_type": "code",
   "execution_count": 2,
   "metadata": {
    "collapsed": false
   },
   "outputs": [
   ],
   "source": [
    "class Bear(object):           # subclass of \"object\"\n",
    "    \"\"\"Bear as a data-type\"\"\"\n",
    "    \n",
    "    fur = \"brown\"             # class attribute\n",
    "                              # (data stored by class)\n",
    "    \n",
    "    def __init__(self, name): # class constructor\n",
    "        self.name = name      # instance attribute\n",
    "                              # (data stored by object)\n",
    "    \n",
    "    def roar(self):           # instance method\n",
    "        print(\"I, {}, do roar.\".format(self.name))"
   ]
  },
  {
   "cell_type": "code",
   "execution_count": 7,
   "metadata": {
    "collapsed": false
   },
   "outputs": [
    {
     "name": "stdout",
     "output_type": "stream",
     "text": [
      "I, Napoleon, do roar.\n",
      "I, Ronaldo, do roar.\n",
      "I, Ronaldo, do roar.\n",
      "I, Ronaldo, do roar.\n"
     ]
    }
   ],
   "source": [
    "Bear.fur # returns the class atribute 'fur' of the class Bear\n",
    "b1 = Bear(\"Ronaldo\") # creates a new Bear object with a name of 'Ronaldo'\n",
    "type(b1) # returns the object type of b1, which is a Bear\n",
    "b1.name # returns the name of the b1 object\n",
    "b1.fur # returns the fur of the 1 object\n",
    "b2 = Bear(\"Napoleon\") # creates a new Bear object with a name of 'Napoleon'\n",
    "b2.name # returns the name of the b2 object\n",
    "b2.roar() # prints 'I, Napoleon, do roar.'\n",
    "\n",
    "b1.roar() # prints 'I, Ronaldo, do roar.'\n",
    "Bear.roar(b1) # prints 'I, Ronaldo, do roar.'\n",
    "type(b1).roar(b1) # prints 'I, Ronaldo, do roar.'"
   ]
  },
  {
   "cell_type": "markdown",
   "metadata": {
    "collapsed": false
   },
   "source": [
    "It's interesting that the last three lines yield the same output even though they look so different.\n",
    "\n",
    "\n"
   ]
  },
  {
   "cell_type": "code",
   "execution_count": 10,
   "metadata": {
    "collapsed": false
   },
   "outputs": [
   ],
   "source": [
    "class StuffedBear(Bear):\n",
    "    def roar(self):\n",
    "        print(\"I, {}, cannot roar.\".format(self.name))"
   ]
  },
  {
   "cell_type": "code",
   "execution_count": 11,
   "metadata": {
    "collapsed": false
   },
   "outputs": [
    {
     "name": "stdout",
     "output_type": "stream",
     "text": [
      "I, Ronaldo, do roar.\n",
      "I, George, cannot roar.\n",
      "I, George, do roar.\n"
     ]
    }
   ],
   "source": [
    "b = Bear(\"Ronaldo\")\n",
    "s = StuffedBear(\"George\")\n",
    "b.roar()\n",
    "s.roar()\n",
    "\n",
    "super(StuffedBear, s).roar()"
   ]
  },
  {
   "cell_type": "code",
   "execution_count": 0,
   "metadata": {
    "collapsed": false
   },
   "outputs": [
   ],
   "source": [
   ]
  }
 ],
 "metadata": {
  "kernelspec": {
   "display_name": "Python 3 (Anaconda 5)",
   "language": "python",
   "name": "anaconda5"
  }
 },
 "nbformat": 4,
 "nbformat_minor": 0
}