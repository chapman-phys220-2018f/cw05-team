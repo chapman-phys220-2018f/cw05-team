{
 "cells": [
  {
   "cell_type": "markdown",
   "metadata": {
    "collapsed": false
   },
   "source": [
    "# CW03 Critique\n",
    "\n",
    "\n",
    "The code for fib.py, sequences.py, and runfibs.sh, is clearly organized with proper docstrings. sequences.py could use more descriptive variables name, and an exception is raised, but never caught. The algorithm is easy to follow:\n",
    "\n",
    "Rating: 95/100"
   ]
  }
 ],
 "metadata": {
  "kernelspec": {
   "display_name": "Python 3 (Anaconda 5)",
   "language": "python",
   "name": "anaconda5"
  }
 },
 "nbformat": 4,
 "nbformat_minor": 0
}