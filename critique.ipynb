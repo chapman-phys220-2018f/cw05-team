{
 "cells": [
  {
   "cell_type": "markdown",
   "metadata": {
    "collapsed": false
   },
   "source": [
    "## Abby Wheaton and Jacob Anabi"
   ]
  },
  {
   "cell_type": "markdown",
   "metadata": {
    "collapsed": false
   },
   "source": [
    "# CW03 Critique\n",
    "### Abby's Work\n",
    "\n",
    "\n",
    "The code for fib.py, sequences.py, and runfibs.sh, is clearly organized with proper docstrings. sequences.py could use more descriptive variables name, and an exception is raised, but never caught. The algorithm is easy to follow:\n",
    "\n",
    "Rating: 95/100\n",
    "\n",
    "### Jacob's Work\n",
    "\n",
    "The python scripts and bash script are all easy to follow with proper docstrings are provided for sequences.py. Both python files are, however, missing the header with names, class, etc. as dictated by the Chapman coding standards. The functions are clearly defined and easy to understand.\n",
    "\n",
    "Rating: 95/100\n"
   ]
  },
  {
   "cell_type": "markdown",
   "metadata": {
    "collapsed": false
   },
   "source": [
   ]
  }
 ],
 "metadata": {
  "kernelspec": {
   "display_name": "Python 3 (Anaconda 5)",
   "language": "python",
   "name": "anaconda5"
  },
  "language_info": {
   "codemirror_mode": {
    "name": "ipython",
    "version": 3
   },
   "file_extension": ".py",
   "mimetype": "text/x-python",
   "name": "python",
   "nbconvert_exporter": "python",
   "pygments_lexer": "ipython3",
   "version": "3.6.5"
  }
 },
 "nbformat": 4,
 "nbformat_minor": 0
}